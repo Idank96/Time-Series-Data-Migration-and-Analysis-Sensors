{
 "cells": [
  {
   "cell_type": "markdown",
   "source": [
    "# ETL vs ELT Evaluation"
   ],
   "metadata": {
    "collapsed": false
   },
   "id": "c98d356c884a2371"
  },
  {
   "cell_type": "markdown",
   "source": [
    "# ETL\n",
    "The data is extracted from the source systems, transformed into the desired format, and then loaded into the target system.\n",
    "\n",
    "* ensure data quality \n",
    "* If you change the structure of the data in storage, you will need to load and transform all the data again. even history data.\n",
    "* If you change the structure of the data in storage,, you need to change the transformation (the steps and any automations) of the source data before load it."
   ],
   "metadata": {
    "collapsed": false
   },
   "id": "6048bd836161f6f9"
  },
  {
   "cell_type": "markdown",
   "source": [
    "# ELT\n",
    "The data is extracted from the source systems, loaded into the target system in its raw format, and then transformed within the target system.\n",
    "* Faster data processing performance, \n",
    "* Flexible and scalable then ETL.\n",
    "* Easy automation process of the extract and load "
   ],
   "metadata": {
    "collapsed": false
   },
   "id": "a435a5e50065dae7"
  },
  {
   "cell_type": "markdown",
   "source": [
    "I recommend using ELT data integration for the sensors database because the data will arrive quickly and we will probably require rapid updates to the storage. \n",
    "ELT data integration loads the raw data directly into storage without transforming it, which is beneficial for large datasets and queries that require optimization and efficiency. \n",
    "Additionally, parallel computations can be made because the compute unit is aware of the data.\n",
    "\n",
    "A modern approach to data migration is dbt. Dbt uses YAML and other configuration files to migrate data from various sources to a destination.\n",
    "To use dbt, simply define the configuration files and run dbt run in the CLI. "
   ],
   "metadata": {
    "collapsed": false
   },
   "id": "f3306428b44251cb"
  }
 ],
 "metadata": {
  "kernelspec": {
   "display_name": "Python 3",
   "language": "python",
   "name": "python3"
  },
  "language_info": {
   "codemirror_mode": {
    "name": "ipython",
    "version": 2
   },
   "file_extension": ".py",
   "mimetype": "text/x-python",
   "name": "python",
   "nbconvert_exporter": "python",
   "pygments_lexer": "ipython2",
   "version": "2.7.6"
  }
 },
 "nbformat": 4,
 "nbformat_minor": 5
}
